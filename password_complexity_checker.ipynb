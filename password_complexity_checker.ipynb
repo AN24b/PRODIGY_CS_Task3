{
 "cells": [
  {
   "cell_type": "code",
   "execution_count": 1,
   "id": "6f148147",
   "metadata": {},
   "outputs": [],
   "source": [
    "import re"
   ]
  },
  {
   "cell_type": "code",
   "execution_count": 2,
   "id": "d12aa2df",
   "metadata": {},
   "outputs": [],
   "source": [
    "def check_digit(pwd:str)->bool:\n",
    "    return bool(re.search(r'[0-9]',pwd))"
   ]
  },
  {
   "cell_type": "code",
   "execution_count": 3,
   "id": "abfb4742",
   "metadata": {},
   "outputs": [],
   "source": [
    "def check_uppercase(pwd:str)->bool:\n",
    "    return bool(re.search(r'[A-Z]',pwd))"
   ]
  },
  {
   "cell_type": "code",
   "execution_count": 4,
   "id": "44398c8d",
   "metadata": {},
   "outputs": [],
   "source": [
    "def check_lowercase(pwd:str)->bool:\n",
    "    return bool(re.search(r'[a-z]',pwd))"
   ]
  },
  {
   "cell_type": "code",
   "execution_count": 5,
   "id": "ccbd6842",
   "metadata": {},
   "outputs": [],
   "source": [
    "def check_special_char(pwd:str)->bool:\n",
    "    return bool(re.search(r'[~!@#$%^&?]',pwd))"
   ]
  },
  {
   "cell_type": "code",
   "execution_count": 6,
   "id": "7ba812a4",
   "metadata": {},
   "outputs": [],
   "source": [
    "def check_white_space(pwd:str)->bool:\n",
    "    return bool(re.search(r'\\s',pwd))"
   ]
  },
  {
   "cell_type": "code",
   "execution_count": 7,
   "id": "22250177",
   "metadata": {},
   "outputs": [],
   "source": [
    "def check_length(pwd:str)->bool:\n",
    "    return 6<=len(pwd)<=12"
   ]
  },
  {
   "cell_type": "code",
   "execution_count": 10,
   "id": "62794f32",
   "metadata": {},
   "outputs": [
    {
     "name": "stdout",
     "output_type": "stream",
     "text": [
      "Choose a Password for your Account: hcvjw23278\n"
     ]
    }
   ],
   "source": [
    "pwd = input('Choose a Password for your Account: ')"
   ]
  },
  {
   "cell_type": "code",
   "execution_count": 11,
   "id": "d46cd156",
   "metadata": {},
   "outputs": [
    {
     "name": "stdout",
     "output_type": "stream",
     "text": [
      "your password has not met the following requirement(s): \n",
      " - password must have at least one uppercase letter (A-Z)\n",
      " - password must have at least one special characters (~!@#$%^&?)\n",
      " - password length must be at least 6 chracters and at most 12 characters\n"
     ]
    }
   ],
   "source": [
    "if all([check_digit(pwd),\n",
    "       check_uppercase(pwd),\n",
    "       check_lowercase(pwd),\n",
    "       check_special_char(pwd),\n",
    "       not check_white_space(pwd),\n",
    "       check_length(pwd)]):\n",
    "    print('your password is strong , you are good to go!')\n",
    "else:\n",
    "    print('your password has not met the following requirement(s): ')\n",
    "    if not check_digit(pwd):\n",
    "        print(' - password must have at least one digit (0-9)')\n",
    "    if not check_uppercase(pwd):\n",
    "        print(' - password must have at least one uppercase letter (A-Z)')\n",
    "    if not check_lowercase(pwd):\n",
    "        print(' - password must have at least one lowercase letter (a-z)')\n",
    "    if not check_special_char(pwd):\n",
    "        print(' - password must have at least one special characters (~!@#$%^&?)')\n",
    "    if check_white_space(pwd):\n",
    "        print(' - password must not contain white space characters')\n",
    "    if check_length(pwd):\n",
    "        print(' - password length must be at least 6 chracters and at most 12 characters')\n",
    "        \n",
    "        "
   ]
  },
  {
   "cell_type": "code",
   "execution_count": null,
   "id": "d2778b31",
   "metadata": {},
   "outputs": [],
   "source": []
  }
 ],
 "metadata": {
  "kernelspec": {
   "display_name": "Python 3 (ipykernel)",
   "language": "python",
   "name": "python3"
  },
  "language_info": {
   "codemirror_mode": {
    "name": "ipython",
    "version": 3
   },
   "file_extension": ".py",
   "mimetype": "text/x-python",
   "name": "python",
   "nbconvert_exporter": "python",
   "pygments_lexer": "ipython3",
   "version": "3.11.5"
  }
 },
 "nbformat": 4,
 "nbformat_minor": 5
}
